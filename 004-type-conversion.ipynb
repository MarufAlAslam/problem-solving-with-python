{
 "cells": [
  {
   "cell_type": "markdown",
   "metadata": {},
   "source": [
    "Given a list of integers, write a Python program to convert each element of the list to a string."
   ]
  },
  {
   "cell_type": "code",
   "execution_count": null,
   "metadata": {},
   "outputs": [],
   "source": [
    "# define a list of integers\n",
    "numbers = [1, 2, 3, 4, 5]\n",
    "\n",
    "def convertToString(num):\n",
    "    return str(num)\n",
    "\n",
    "for i in range(len(numbers)):\n",
    "    numbers[i] = convertToString(numbers[i])\n",
    "    \n",
    "print(numbers)"
   ]
  }
 ],
 "metadata": {
  "kernelspec": {
   "display_name": "Python 3",
   "language": "python",
   "name": "python3"
  },
  "language_info": {
   "name": "python",
   "version": "3.13.1"
  }
 },
 "nbformat": 4,
 "nbformat_minor": 2
}
